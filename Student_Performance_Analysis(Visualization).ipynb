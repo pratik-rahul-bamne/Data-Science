{
  "nbformat": 4,
  "nbformat_minor": 0,
  "metadata": {
    "colab": {
      "provenance": [],
      "authorship_tag": "ABX9TyMQFFImcfltMw0JN4szRODk",
      "include_colab_link": true
    },
    "kernelspec": {
      "name": "python3",
      "display_name": "Python 3"
    },
    "language_info": {
      "name": "python"
    }
  },
  "cells": [
    {
      "cell_type": "markdown",
      "metadata": {
        "id": "view-in-github",
        "colab_type": "text"
      },
      "source": [
        "<a href=\"https://colab.research.google.com/github/pratik-rahul-bamne/Data-Science/blob/main/Student_Performance_Analysis(Visualization).ipynb\" target=\"_parent\"><img src=\"https://colab.research.google.com/assets/colab-badge.svg\" alt=\"Open In Colab\"/></a>"
      ]
    },
    {
      "cell_type": "markdown",
      "source": [],
      "metadata": {
        "id": "kOnuvOq81Q6C"
      }
    },
    {
      "cell_type": "markdown",
      "source": [
        "Student Performance Analysis(**Visualization**)"
      ],
      "metadata": {
        "id": "z-DRJbGN1S1T"
      }
    },
    {
      "cell_type": "code",
      "source": [
        "import os\n",
        "print(os.getcwd())  # Prints the current directory\n",
        "\n",
        "\n",
        "import os\n",
        "os.chdir(r\"C:\\01 Pratik\\CLG\\Projects\\Student Performance Analysis\")\n",
        "\n",
        "print(\"Current Directory:\", os.getcwd())  # Verify\n"
      ],
      "metadata": {
        "colab": {
          "base_uri": "https://localhost:8080/",
          "height": 228
        },
        "id": "fv1QqM3-1blz",
        "outputId": "492107e4-f170-49d9-8f7f-fbe31b5bcc42"
      },
      "execution_count": 1,
      "outputs": [
        {
          "output_type": "stream",
          "name": "stdout",
          "text": [
            "/content\n"
          ]
        },
        {
          "output_type": "error",
          "ename": "FileNotFoundError",
          "evalue": "[Errno 2] No such file or directory: 'C:\\\\01 Pratik\\\\CLG\\\\Projects\\\\Student Performance Analysis'",
          "traceback": [
            "\u001b[0;31m---------------------------------------------------------------------------\u001b[0m",
            "\u001b[0;31mFileNotFoundError\u001b[0m                         Traceback (most recent call last)",
            "\u001b[0;32m<ipython-input-1-a8b707cc4c75>\u001b[0m in \u001b[0;36m<cell line: 0>\u001b[0;34m()\u001b[0m\n\u001b[1;32m      4\u001b[0m \u001b[0;34m\u001b[0m\u001b[0m\n\u001b[1;32m      5\u001b[0m \u001b[0;32mimport\u001b[0m \u001b[0mos\u001b[0m\u001b[0;34m\u001b[0m\u001b[0;34m\u001b[0m\u001b[0m\n\u001b[0;32m----> 6\u001b[0;31m \u001b[0mos\u001b[0m\u001b[0;34m.\u001b[0m\u001b[0mchdir\u001b[0m\u001b[0;34m(\u001b[0m\u001b[0;34mr\"C:\\01 Pratik\\CLG\\Projects\\Student Performance Analysis\"\u001b[0m\u001b[0;34m)\u001b[0m\u001b[0;34m\u001b[0m\u001b[0;34m\u001b[0m\u001b[0m\n\u001b[0m\u001b[1;32m      7\u001b[0m \u001b[0;34m\u001b[0m\u001b[0m\n\u001b[1;32m      8\u001b[0m \u001b[0mprint\u001b[0m\u001b[0;34m(\u001b[0m\u001b[0;34m\"Current Directory:\"\u001b[0m\u001b[0;34m,\u001b[0m \u001b[0mos\u001b[0m\u001b[0;34m.\u001b[0m\u001b[0mgetcwd\u001b[0m\u001b[0;34m(\u001b[0m\u001b[0;34m)\u001b[0m\u001b[0;34m)\u001b[0m  \u001b[0;31m# Verify\u001b[0m\u001b[0;34m\u001b[0m\u001b[0;34m\u001b[0m\u001b[0m\n",
            "\u001b[0;31mFileNotFoundError\u001b[0m: [Errno 2] No such file or directory: 'C:\\\\01 Pratik\\\\CLG\\\\Projects\\\\Student Performance Analysis'"
          ]
        }
      ]
    },
    {
      "cell_type": "code",
      "source": [
        "import pandas as pd\n",
        "import os\n",
        "\n",
        "# Set the correct file path\n",
        "file_path = r\"C:\\01 Pratik\\CLG\\Projects\\Student Performance Analysis\\Student_performance_data_.csv\"\n",
        "\n",
        "# Check if file exists\n",
        "if os.path.exists(file_path):\n",
        "    df = pd.read_csv(file_path)\n",
        "    print(\"File loaded successfully!\")\n",
        "    print(df.head())  # Display first few rows\n",
        "else:\n",
        "    print(\"Error: File not found! Check the file path.\")\n"
      ],
      "metadata": {
        "id": "DeeWVa8i1hzZ"
      },
      "execution_count": null,
      "outputs": []
    },
    {
      "cell_type": "code",
      "source": [
        "import matplotlib.pyplot as plt\n",
        "import seaborn as sns\n",
        "import pandas as pd\n",
        "import numpy as np\n",
        "\n",
        "# Load the dataset again\n",
        "file_path = r\"C:\\01 Pratik\\CLG\\Projects\\Student Performance Analysis\\Student_performance_data_.csv\"\n",
        "df = pd.read_csv(file_path)\n",
        "\n",
        "# Set the plot style\n",
        "sns.set_style(\"whitegrid\")\n",
        "\n",
        "# Create subplots\n",
        "fig, axes = plt.subplots(2, 2, figsize=(14, 10))\n",
        "\n",
        "# 1. GPA Distribution (Histogram)\n",
        "sns.histplot(df[\"GPA\"], bins=20, kde=True, ax=axes[0, 0], color=\"blue\")\n",
        "axes[0, 0].set_title(\"GPA Distribution\")\n",
        "\n",
        "# 2. Study Time vs. GPA (Scatter Plot)\n",
        "sns.scatterplot(x=df[\"StudyTimeWeekly\"], y=df[\"GPA\"], ax=axes[0, 1], color=\"green\")\n",
        "axes[0, 1].set_title(\"Study Time vs. GPA\")\n",
        "axes[0, 1].set_xlabel(\"Study Time Weekly\")\n",
        "axes[0, 1].set_ylabel(\"GPA\")\n",
        "\n",
        "# 3. Absences vs. GPA (Box Plot)\n",
        "sns.boxplot(x=df[\"GPA\"], y=df[\"Absences\"], ax=axes[1, 0], color=\"red\")\n",
        "axes[1, 0].set_title(\"Absences vs. GPA\")\n",
        "\n",
        "# 4. Correlation Heatmap\n",
        "corr_matrix = df.corr()\n",
        "sns.heatmap(corr_matrix, annot=True, cmap=\"coolwarm\", ax=axes[1, 1])\n",
        "axes[1, 1].set_title(\"Correlation Heatmap\")\n",
        "\n",
        "# Adjust layout and show plots\n",
        "plt.tight_layout()\n",
        "plt.show()\n"
      ],
      "metadata": {
        "id": "UYlQv2Ky1kd0"
      },
      "execution_count": null,
      "outputs": []
    },
    {
      "cell_type": "code",
      "source": [
        "# 1. GPA Distribution (Histogram)\n",
        "plt.figure(figsize=(8, 5))\n",
        "sns.histplot(df[\"GPA\"], bins=20, kde=True, color=\"blue\")\n",
        "plt.title(\"GPA Distribution\")\n",
        "plt.xlabel(\"GPA\")\n",
        "plt.ylabel(\"Frequency\")\n",
        "plt.show()"
      ],
      "metadata": {
        "id": "YSxpDJ-51lX_"
      },
      "execution_count": null,
      "outputs": []
    },
    {
      "cell_type": "code",
      "source": [
        "# 2. Study Time vs. GPA (Scatter Plot)\n",
        "plt.figure(figsize=(8, 5))\n",
        "sns.scatterplot(x=df[\"StudyTimeWeekly\"], y=df[\"GPA\"], color=\"green\")\n",
        "plt.title(\"Study Time vs. GPA\")\n",
        "plt.xlabel(\"Study Time Weekly (hours)\")\n",
        "plt.ylabel(\"GPA\")\n",
        "plt.show()"
      ],
      "metadata": {
        "id": "ILqvnSA11w03"
      },
      "execution_count": null,
      "outputs": []
    },
    {
      "cell_type": "code",
      "source": [
        "# 3. Absences vs. GPA (Box Plot)\n",
        "plt.figure(figsize=(8, 5))\n",
        "sns.boxplot(x=df[\"GPA\"], y=df[\"Absences\"], color=\"red\")\n",
        "plt.title(\"Absences vs. GPA\")\n",
        "plt.xlabel(\"GPA\")\n",
        "plt.ylabel(\"Number of Absences\")\n",
        "plt.show()"
      ],
      "metadata": {
        "id": "UKKRoi_81ztI"
      },
      "execution_count": null,
      "outputs": []
    },
    {
      "cell_type": "code",
      "source": [
        "# 4. Correlation Heatmap\n",
        "plt.figure(figsize=(10, 6))\n",
        "corr_matrix = df.corr()\n",
        "sns.heatmap(corr_matrix, annot=True, cmap=\"coolwarm\", fmt=\".2f\")\n",
        "plt.title(\"Correlation Heatmap\")\n",
        "plt.show()"
      ],
      "metadata": {
        "id": "1i5_YOvd13L_"
      },
      "execution_count": null,
      "outputs": []
    },
    {
      "cell_type": "code",
      "source": [
        "# 5. Violin Plot\n",
        "plt.figure(figsize=(8, 5))\n",
        "sns.violinplot(x=df['Absences'], y=df['GPA'], palette=\"muted\")\n",
        "plt.title('Impact of Absences on GPA')\n",
        "plt.xlabel('Number of Absences')\n",
        "plt.ylabel('GPA')\n",
        "plt.show()"
      ],
      "metadata": {
        "id": "-BLeG1RH18t9"
      },
      "execution_count": null,
      "outputs": []
    },
    {
      "cell_type": "code",
      "source": [
        "# 5. Extracurricular Activities Impact on GPA (Bar Chart)\n",
        "\n",
        "plt.figure(figsize=(8, 5))\n",
        "sns.barplot(x=df['Extracurricular'], y=df['GPA'], palette=\"coolwarm\")\n",
        "plt.title('Impact of Extracurricular Activities on GPA')\n",
        "plt.xlabel('Participation in Extracurricular Activities (0 = No, 1 = Yes)')\n",
        "plt.ylabel('Average GPA')\n",
        "plt.show()"
      ],
      "metadata": {
        "id": "W0x6lFdc1_gy"
      },
      "execution_count": null,
      "outputs": []
    },
    {
      "cell_type": "markdown",
      "source": [],
      "metadata": {
        "id": "Bo1QfMs11cJz"
      }
    }
  ]
}